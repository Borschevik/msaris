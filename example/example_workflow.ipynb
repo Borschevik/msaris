{
 "cells": [
  {
   "cell_type": "markdown",
   "id": "chief-reading",
   "metadata": {},
   "source": [
    "# Example for PdCl2 and CuCl data"
   ]
  },
  {
   "cell_type": "markdown",
   "id": "latest-gazette",
   "metadata": {},
   "source": [
    "Example of routine used to find clusters inside test data and perform their identification by using classes and examples from MSARIS package\n",
    "\n",
    "Provided example includes linear optimization search together with founding clusters and plotting plots with found spectrum\n",
    "\n",
    "Currently for prototype runned routine is conducted mostly in user defined functions "
   ]
  },
  {
   "cell_type": "markdown",
   "id": "exceptional-moore",
   "metadata": {},
   "source": [
    "## Installing dependencies\n",
    "\n",
    "Install dependencies to run package"
   ]
  },
  {
   "cell_type": "code",
   "execution_count": null,
   "id": "experimental-secondary",
   "metadata": {
    "scrolled": true
   },
   "outputs": [],
   "source": [
    "%pip install -r ../requirements.txt\n",
    "%pip install -e .."
   ]
  },
  {
   "cell_type": "markdown",
   "id": "miniature-buffer",
   "metadata": {},
   "source": [
    "Run imports to run example scripts"
   ]
  },
  {
   "cell_type": "code",
   "execution_count": null,
   "id": "monetary-contributor",
   "metadata": {},
   "outputs": [],
   "source": [
    "from collections import defaultdict\n",
    "import glob\n",
    "import os\n",
    "\n",
    "import matplotlib.pyplot as plt\n",
    "import numpy as np\n",
    "import pandas as pd\n",
    "from tqdm.notebook import tqdm\n",
    "\n",
    "from msaris.clusterisation.clusterisation import ClusterSearch, MaxClustering\n",
    "from msaris.molecule.molecule import Molecule\n",
    "from msaris.search.optimization_search import SearchClusters\n",
    "from msaris.reader.reader import load_data\n",
    "from msaris.reader.preprocessing import filter_intensities, reduce_data_resolution\n",
    "from msaris.utils.intensities_util import norm\n",
    "from msaris.utils.recognizing_utils import formal_formula"
   ]
  },
  {
   "cell_type": "markdown",
   "id": "romance-density",
   "metadata": {},
   "source": [
    "## Running data loading\n",
    "\n",
    "Read `.mzML` file and pre-proccess data with reducing data dimensionality"
   ]
  },
  {
   "cell_type": "code",
   "execution_count": null,
   "id": "declared-simple",
   "metadata": {},
   "outputs": [],
   "source": [
    "file_name = \"PdCl2_neg_000001\"\n",
    "DATA_SOURCE = f\"../tests/resources/{file_name}.mzML\"\n",
    "mz, it = load_data(\n",
    "    DATA_SOURCE, range_spectrum=(100, 1500), min_intensity=None, mz_binning_width=5.0,\n",
    ")\n",
    "mz_processed, it_processed = reduce_data_resolution(mz, it, int(mz.shape[0]/10), int(it.shape[0]/10))"
   ]
  },
  {
   "cell_type": "markdown",
   "id": "meaning-tablet",
   "metadata": {},
   "source": [
    "## Clustering spectrum to find existing peaks\n",
    "\n",
    "Find MaxClustering to find clusters in data to find weighted masses with peaks"
   ]
  },
  {
   "cell_type": "code",
   "execution_count": null,
   "id": "seventh-pierce",
   "metadata": {
    "scrolled": true
   },
   "outputs": [],
   "source": [
    "clust = MaxClustering(\n",
    "    window=5,\n",
    "    threshold = max(it)/2000\n",
    ")\n",
    "masses_ = clust.find(mz_processed, it_processed)"
   ]
  },
  {
   "cell_type": "markdown",
   "id": "convertible-wright",
   "metadata": {},
   "source": [
    "## Running script to find brutto formula\n",
    "\n",
    "Running parameters in order with different coefficients calculated\n",
    "started from Metal to adding various ligands"
   ]
  },
  {
   "cell_type": "code",
   "execution_count": null,
   "id": "sharing-proportion",
   "metadata": {},
   "outputs": [],
   "source": [
    "initial_params = dict(\n",
    "    no_TBAB=True,\n",
    "    no_K=True,\n",
    "    no_MeOH=True,\n",
    "    no_Cu=False,\n",
    "    no_Pd1=False,\n",
    "    no_Pd=False,\n",
    "    no_NaTFA=True,\n",
    "    no_OH=True,\n",
    "    no_H2O=True,\n",
    "    no_O2=True,\n",
    "    no_O=True,\n",
    "    no_N2=True,\n",
    "    no_Na=True,\n",
    "    no_CH3CN=True,\n",
    ")\n",
    "iteration_steps = dict(\n",
    "    no_Cu=True,\n",
    "    no_Pd=True,\n",
    "    no_Na=False,\n",
    "    no_CH3CN=False,\n",
    "    no_NaTFA=False,\n",
    "    no_H2O=False,\n",
    "    no_MeOH=False,\n",
    "    no_TBAB=False,\n",
    "    no_O2=False,\n",
    "    no_O=False,\n",
    "    no_N2=False,\n",
    ")"
   ]
  },
  {
   "cell_type": "markdown",
   "id": "stunning-representation",
   "metadata": {},
   "source": [
    "Running custom script run with found weighted masses and determing isotope pattern formulas"
   ]
  },
  {
   "cell_type": "code",
   "execution_count": null,
   "id": "cultural-description",
   "metadata": {},
   "outputs": [],
   "source": [
    "ranked = defaultdict(list)\n",
    "path = f\"./data/{file_name}\""
   ]
  },
  {
   "cell_type": "markdown",
   "id": "rural-scholar",
   "metadata": {},
   "source": [
    "Running class with function for search\n",
    "Here we used threshold for cosine value equal to 0.7\n",
    "\n",
    "Data is saved in `ranked` dictionary with all found metrics"
   ]
  },
  {
   "cell_type": "code",
   "execution_count": null,
   "id": "suited-philosophy",
   "metadata": {
    "scrolled": true
   },
   "outputs": [],
   "source": [
    "srch = SearchClusters(\n",
    "    mz=mz,\n",
    "    it=it,\n",
    "    charge = 1,\n",
    "    threshold = 0.7,\n",
    "    verbose=True\n",
    ")\n",
    "for target_mass in tqdm(sorted(masses_)):\n",
    "    found = []\n",
    "    for to_change, value in iteration_steps.items():\n",
    "        params = initial_params.copy()\n",
    "        params[to_change] = value\n",
    "        found.extend(srch.recognise_masses(\n",
    "                    target_mass,\n",
    "                    params,\n",
    "                    epsilon_range =(0, 5, 0.25,), \n",
    "                ))\n",
    "    ranked[target_mass] = sorted(found, key=lambda x: x[\"delta\"])  \n",
    "    "
   ]
  },
  {
   "cell_type": "markdown",
   "id": "adjacent-refrigerator",
   "metadata": {},
   "source": [
    "## Representation of found results\n",
    "\n",
    "Drawing general plot of the found spectra data and adding individual drawn spectrum"
   ]
  },
  {
   "cell_type": "code",
   "execution_count": null,
   "id": "central-collective",
   "metadata": {},
   "outputs": [],
   "source": [
    "import matplotlib as mpl\n",
    "\n",
    "def color_fader(c1: str, c2: str, *, mix: int = 0) -> list:\n",
    "    \"\"\"\n",
    "    Calculate fading gradient from one colour to another in RGB byte format\n",
    "    \n",
    "    :param c1: the first color\n",
    "    :param c2: the second calor\n",
    "    :param mix: int number of spectrums to get colors\n",
    "    \n",
    "    :return: list from colors\n",
    "    \"\"\"\n",
    "    c1 = np.array(mpl.colors.to_rgb(c1))\n",
    "    c2 = np.array(mpl.colors.to_rgb(c2))\n",
    "    return mpl.colors.to_hex((1 - mix) * c1 + mix * c2)"
   ]
  },
  {
   "cell_type": "markdown",
   "id": "plain-margin",
   "metadata": {},
   "source": [
    "### Plotting all found peaks\n",
    "\n",
    "Results from `ranked` are presented in total.png plot where all found peaks could be observed"
   ]
  },
  {
   "cell_type": "code",
   "execution_count": null,
   "id": "cloudy-animation",
   "metadata": {},
   "outputs": [],
   "source": [
    "count_entries = len(ranked)\n",
    "fig, ax = plt.subplots(1, 1, figsize=(60, 40))\n",
    "max_it = max(it)\n",
    "ax.plot(mz, it/ max_it, color=\"black\")\n",
    "count: int = 0\n",
    "c1: str = \"blue\"\n",
    "c2: str = \"red\"\n",
    "for mass, data in ranked.items():\n",
    "    if data:\n",
    "        colour = color_fader(c1, c2, mix=count / (count_entries + 1))\n",
    "        it_n = (data[0][\"spectrum\"][1] / max_it) * 100\n",
    "        ax.plot(\n",
    "            data[0][\"spectrum\"][0], it_n, color=colour,\n",
    "        )\n",
    "        max_ind = np.argmax(it_n)\n",
    "        height = it_n[max_ind]\n",
    "        ax.text(\n",
    "            data[0][\"spectrum\"][0][max_ind],\n",
    "            height,\n",
    "            round(mass),\n",
    "            color=colour,\n",
    "            horizontalalignment=\"center\",\n",
    "            verticalalignment=\"center\",\n",
    "            fontsize=30,\n",
    "        )\n",
    "        count += 1\n",
    "ax.set_title(f\"Recognised masses for total spectrum\", fontsize=40)\n",
    "ax.set_xlabel(\"M/Z\", fontsize=40)\n",
    "ax.set_ylabel(\"Intensity\", fontsize=40)\n",
    "if not os.path.exists(path):\n",
    "    os.makedirs(path)\n",
    "plt.savefig(f\"{path}/total.png\", dpi=300)"
   ]
  },
  {
   "cell_type": "markdown",
   "id": "portuguese-inspiration",
   "metadata": {},
   "source": [
    "### Individual spectrum plot\n",
    "\n",
    "Providing indiviual spectrum found in initial spectrum"
   ]
  },
  {
   "cell_type": "code",
   "execution_count": null,
   "id": "special-lewis",
   "metadata": {
    "scrolled": true
   },
   "outputs": [],
   "source": [
    "for mass, data in ranked.items():\n",
    "    print(f\"Mass {mass} has found {len(data)}\")\n",
    "    for match in data:\n",
    "        fig, ax = plt.subplots(1, 1, figsize=(15, 5))\n",
    "\n",
    "        ax.plot(\n",
    "            match[\"spectrum\"][0], norm(match[\"spectrum\"][1]) * 100, color=\"blue\",\n",
    "        )\n",
    "        ax.plot(match[\"mz\"], norm(match[\"it\"]) * 100, color=\"green\")\n",
    "        ax.set_xlabel(\"M/Z\", fontsize=20)\n",
    "        ax.set_ylabel(\"Intensity\", fontsize=20)\n",
    "\n",
    "        test_label = [\n",
    "            f\"{formal_formula(match['composition'])}\",\n",
    "            f\"Delta m/z: {match['delta']:.3f}\",\n",
    "            f\"Cosine: {match['metrics']['cosine']:.3f}\",\n",
    "            f\"Relative: {match['relative']:.3f}\",\n",
    "        ]\n",
    "\n",
    "        ax.text(\n",
    "            0.8,\n",
    "            0.8,\n",
    "            \"\\n\".join(test_label),\n",
    "            color=\"black\",\n",
    "            horizontalalignment=\"center\",\n",
    "            verticalalignment=\"center\",\n",
    "            fontsize=12,\n",
    "            transform=ax.transAxes,\n",
    "        )\n",
    "        ax.set_title(f\"Plotting relative intensity for {int(mass+0.5)}\", fontsize=20)\n",
    "        cluster_path = f\"{path}/{int(mass+0.5)}\"\n",
    "        if not os.path.exists(cluster_path):\n",
    "            os.makedirs(cluster_path)\n",
    "        plt.savefig(f\"{cluster_path}/{match['formula']}.png\", dpi=300)"
   ]
  },
  {
   "cell_type": "markdown",
   "id": "demonstrated-processor",
   "metadata": {},
   "source": [
    "### Generating csv report with total found data\n",
    "\n",
    "Performing construction of the `.csv` file with defined and found peaks"
   ]
  },
  {
   "cell_type": "code",
   "execution_count": null,
   "id": "modular-redhead",
   "metadata": {},
   "outputs": [],
   "source": [
    "report = {\n",
    "    \"mass\": [],\n",
    "    \"brutto\": [],\n",
    "    \"brutto_formal\": [],\n",
    "    \"cosine\": [],\n",
    "    \"relative\": [],\n",
    "    \"delta\": []\n",
    "}\n",
    "variables = [\n",
    "    \"Pd1\",\n",
    "    \"Pd2\",\n",
    "    \"Cu1\",\n",
    "    \"Cu2\",\n",
    "    \"Na\",\n",
    "    \"K\",\n",
    "    \"O\",\n",
    "    \"CF3COO\",\n",
    "    \"TBAB\",\n",
    "    \"OH\",\n",
    "    \"Cl\",\n",
    "    \"Br\",\n",
    "    \"CH3CN\",\n",
    "    \"CH3OH\",\n",
    "    \"H2O\",\n",
    "    \"N2\",\n",
    "    \"O2_1\",\n",
    "    \"O2_2\"\n",
    "]\n",
    "for variable in variables:\n",
    "    report[variable] = []\n",
    "for mass, data in ranked.items():\n",
    "\n",
    "    for match in data:\n",
    "        composition = match[\"composition\"]\n",
    "        report[\"mass\"].append(round(mass))\n",
    "        report[\"brutto\"].append(match[\"formula\"])\n",
    "        report[\"brutto_formal\"].append(formal_formula(composition))\n",
    "        report[\"cosine\"].append(match[\"metrics\"][\"cosine\"])\n",
    "        report[\"relative\"].append(match[\"relative\"])\n",
    "        report[\"delta\"].append(match[\"delta\"])\n",
    "        for variable in variables:\n",
    "            if variable in composition:\n",
    "                report[variable].append(composition[variable])\n",
    "            else:\n",
    "                report[variable].append(0)\n",
    "    pd.DataFrame(report).to_csv(f\"{path}/{file_name}.csv\")"
   ]
  }
 ],
 "metadata": {
  "kernelspec": {
   "display_name": "Python 3",
   "language": "python",
   "name": "python3"
  },
  "language_info": {
   "codemirror_mode": {
    "name": "ipython",
    "version": 3
   },
   "file_extension": ".py",
   "mimetype": "text/x-python",
   "name": "python",
   "nbconvert_exporter": "python",
   "pygments_lexer": "ipython3",
   "version": "3.8.5"
  }
 },
 "nbformat": 4,
 "nbformat_minor": 5
}
