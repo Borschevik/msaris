{
 "cells": [
  {
   "cell_type": "markdown",
   "id": "chief-reading",
   "metadata": {},
   "source": [
    "# Example for PdCl2 and CuCl data"
   ]
  },
  {
   "cell_type": "markdown",
   "id": "latest-gazette",
   "metadata": {},
   "source": [
    "Example of routine used to find clusters inside test data and perform their identification by using classes and examples from MSARIS package\n",
    "\n",
    "Provided example includes linear optimization search together with founding clusters and plotting plots with found spectrum\n",
    "\n",
    "Currently for prototype runned routine is conducted mostly in user defined functions "
   ]
  },
  {
   "cell_type": "markdown",
   "id": "exceptional-moore",
   "metadata": {},
   "source": [
    "## Installing dependencies\n",
    "\n",
    "Install dependencies to run package"
   ]
  },
  {
   "cell_type": "code",
   "execution_count": null,
   "id": "experimental-secondary",
   "metadata": {
    "scrolled": true
   },
   "outputs": [],
   "source": [
    "%pip install -r ../requirements.txt\n",
    "%pip install -e .."
   ]
  },
  {
   "cell_type": "markdown",
   "id": "miniature-buffer",
   "metadata": {},
   "source": [
    "Run imports to run example scripts"
   ]
  },
  {
   "cell_type": "code",
   "execution_count": null,
   "id": "monetary-contributor",
   "metadata": {},
   "outputs": [],
   "source": [
    "from collections import defaultdict\n",
    "import glob\n",
    "import os\n",
    "\n",
    "import matplotlib.pyplot as plt\n",
    "import numpy as np\n",
    "import pandas as pd\n",
    "from tqdm.notebook import tqdm\n",
    "\n",
    "from msaris.clusterisation.clusterisation import ClusterSearch, MaxClustering\n",
    "from msaris.molecule.molecule import Molecule, plot_graph_for_comparing_molecules\n",
    "from msaris.search.optimization_search import SearchClusters\n",
    "from msaris.reader.reader import load_data\n",
    "from msaris.reader.preprocessing import filter_intensities, reduce_data_resolution\n",
    "from msaris.utils.intensities_util import norm\n",
    "from msaris.utils.recognizing_utils import formal_formula"
   ]
  },
  {
   "cell_type": "markdown",
   "id": "romance-density",
   "metadata": {},
   "source": [
    "## Running data loading\n",
    "\n",
    "Read `.mzML` file and pre-proccess data with reducing data dimensionality"
   ]
  },
  {
   "cell_type": "code",
   "execution_count": null,
   "id": "spanish-therapist",
   "metadata": {},
   "outputs": [],
   "source": [
    "file_name = \"Test_entry\"\n",
    "DATA_SOURCE = f\"../data/{file_name}.mzML\""
   ]
  },
  {
   "cell_type": "code",
   "execution_count": null,
   "id": "declared-simple",
   "metadata": {},
   "outputs": [],
   "source": [
    "mz, it = load_data(\n",
    "    DATA_SOURCE, range_spectrum=(0, 1000), min_intensity=None, mz_binning_width=25.0,\n",
    ")\n",
    "mz_processed, it_processed = reduce_data_resolution(mz, it, int(mz.shape[0]/10), int(it.shape[0]/10))"
   ]
  },
  {
   "cell_type": "markdown",
   "id": "sought-butter",
   "metadata": {},
   "source": [
    "### Estimation of individual spectrum\n",
    "\n",
    "Allowing to compare some graphs with predefined spectra to estiamte their validaty"
   ]
  },
  {
   "cell_type": "code",
   "execution_count": null,
   "id": "serious-puzzle",
   "metadata": {},
   "outputs": [],
   "source": [
    "formula = \"Cu3Pd3Cl10O2\"\n",
    "save = True\n",
    "plot_graph_for_comparing_molecules(\n",
    "    mz,\n",
    "    it,\n",
    "    formula=formula,\n",
    "    save=True,\n",
    ")"
   ]
  },
  {
   "cell_type": "markdown",
   "id": "meaning-tablet",
   "metadata": {},
   "source": [
    "## Clustering spectrum to find existing peaks\n",
    "\n",
    "Find MaxClustering to find clusters in data to find weighted masses with peaks"
   ]
  },
  {
   "cell_type": "code",
   "execution_count": null,
   "id": "seventh-pierce",
   "metadata": {
    "scrolled": true
   },
   "outputs": [],
   "source": [
    "clust = MaxClustering(\n",
    "    window=7,\n",
    "    threshold = max(it)*0.01\n",
    ")\n",
    "masses_ = clust.find(mz, it, cluster_mod=\"max\")"
   ]
  },
  {
   "cell_type": "markdown",
   "id": "convertible-wright",
   "metadata": {},
   "source": [
    "## Running script to find brutto formula\n",
    "\n",
    "Running parameters in order with different coefficients calculated\n",
    "started from Metal to adding various ligands"
   ]
  },
  {
   "cell_type": "code",
   "execution_count": null,
   "id": "sharing-proportion",
   "metadata": {},
   "outputs": [],
   "source": [
    "iteration_steps = [\n",
    "    dict(no_Cu=True,),\n",
    "    dict(no_Cu=True, no_CH3CN=False, no_Pd=False,),\n",
    "    dict(no_Cu=True, no_CH3CN=False, no_Pd=False, no_N2=False,),\n",
    "    dict(no_Cu=True, no_CH3CN=False, no_H2O=False, no_Pd=False),\n",
    "    dict(no_Pd=True,),\n",
    "    dict(no_Cu=False, no_CH3CN=False, no_Pd=True,),\n",
    "    dict(no_Cu=False, no_CH3CN=False, no_Pd=True, no_N2=False,),\n",
    "    dict(no_Cu=False, no_CH3CN=False, no_H2O=False, no_Pd=True),\n",
    "    dict(no_CH3CN=False,),\n",
    "    dict(no_Na=False,),\n",
    "    dict(no_H2O=False,),\n",
    "    dict(no_O2=False,),\n",
    "    dict(no_O=False,),\n",
    "    dict(no_N2=False,)\n",
    "]"
   ]
  },
  {
   "cell_type": "markdown",
   "id": "stunning-representation",
   "metadata": {},
   "source": [
    "Running custom script run with found weighted masses and determing isotope pattern formulas"
   ]
  },
  {
   "cell_type": "code",
   "execution_count": null,
   "id": "cultural-description",
   "metadata": {},
   "outputs": [],
   "source": [
    "ranked = defaultdict(list)\n",
    "path = f\"./{file_name}\""
   ]
  },
  {
   "cell_type": "markdown",
   "id": "rural-scholar",
   "metadata": {},
   "source": [
    "Running class with function for search\n",
    "Here we used threshold for cosine value equal to 0.7\n",
    "\n",
    "Data is saved in `ranked` dictionary with all found metrics"
   ]
  },
  {
   "cell_type": "code",
   "execution_count": null,
   "id": "massive-breathing",
   "metadata": {
    "scrolled": true
   },
   "outputs": [],
   "source": [
    "srch = SearchClusters(\n",
    "    mz=mz,\n",
    "    it=it,\n",
    "    charge = -1,\n",
    "    threshold = 0.7,\n",
    "    verbose=True,\n",
    "    adjusted=False,\n",
    "    njobs=5\n",
    ")\n",
    "for target_mass in tqdm(sorted(masses_)):\n",
    "    found = []\n",
    "    for params in iteration_steps:\n",
    "        found.extend(srch.recognise_masses(\n",
    "                    target_mass,\n",
    "                    params,\n",
    "                    epsilon_range =(0, 5, 0.1,), \n",
    "                ))\n",
    "    ranked[target_mass] = sorted(found, key=lambda x: x[\"delta_max\"])   "
   ]
  },
  {
   "cell_type": "markdown",
   "id": "adjacent-refrigerator",
   "metadata": {},
   "source": [
    "## Representation of found results\n",
    "\n",
    "Drawing general plot of the found spectra data and adding individual drawn spectrum"
   ]
  },
  {
   "cell_type": "code",
   "execution_count": null,
   "id": "central-collective",
   "metadata": {},
   "outputs": [],
   "source": [
    "import matplotlib as mpl\n",
    "\n",
    "def color_fader(c1: str, c2: str, *, mix: int = 0) -> list:\n",
    "    \"\"\"\n",
    "    Calculate fading gradient from one colour to another in RGB byte format\n",
    "    \n",
    "    :param c1: the first color\n",
    "    :param c2: the second calor\n",
    "    :param mix: int number of spectrums to get colors\n",
    "    \n",
    "    :return: list from colors\n",
    "    \"\"\"\n",
    "    c1 = np.array(mpl.colors.to_rgb(c1))\n",
    "    c2 = np.array(mpl.colors.to_rgb(c2))\n",
    "    return mpl.colors.to_hex((1 - mix) * c1 + mix * c2)"
   ]
  },
  {
   "cell_type": "markdown",
   "id": "plain-margin",
   "metadata": {},
   "source": [
    "### Plotting all found peaks\n",
    "\n",
    "Results from `ranked` are presented in total.png plot where all found peaks could be observed"
   ]
  },
  {
   "cell_type": "code",
   "execution_count": null,
   "id": "cloudy-animation",
   "metadata": {},
   "outputs": [],
   "source": [
    "count_entries = len(ranked)\n",
    "fig, ax = plt.subplots(1, 1, figsize=(60, 40))\n",
    "max_it = max(it)\n",
    "ax.plot(mz, it/ max_it, color=\"black\")\n",
    "count: int = 0\n",
    "c1: str = \"blue\"\n",
    "c2: str = \"red\"\n",
    "for mass, data in ranked.items():\n",
    "    if data:\n",
    "        colour = color_fader(c1, c2, mix=count / (count_entries + 1))\n",
    "        it_n = (data[0][\"spectrum\"][1] / max_it) * 100\n",
    "        ax.plot(\n",
    "            data[0][\"spectrum\"][0], it_n, color=colour,\n",
    "        )\n",
    "        max_ind = np.argmax(it_n)\n",
    "        height = it_n[max_ind]\n",
    "        ax.text(\n",
    "            data[0][\"spectrum\"][0][max_ind],\n",
    "            height,\n",
    "            round(mass),\n",
    "            color=colour,\n",
    "            horizontalalignment=\"center\",\n",
    "            verticalalignment=\"center\",\n",
    "            fontsize=30,\n",
    "        )\n",
    "        count += 1\n",
    "ax.set_title(f\"Recognised masses for total spectrum\", fontsize=40)\n",
    "ax.set_xlabel(\"M/Z\", fontsize=40)\n",
    "ax.set_ylabel(\"Intensity\", fontsize=40)\n",
    "if not os.path.exists(path):\n",
    "    os.makedirs(path)\n",
    "plt.savefig(f\"{path}/total.png\", dpi=300)\n",
    "plt.close()"
   ]
  },
  {
   "cell_type": "markdown",
   "id": "demonstrated-processor",
   "metadata": {},
   "source": [
    "### Generating csv report with total found data\n",
    "\n",
    "Performing construction of the `.csv` file with defined and found peaks"
   ]
  },
  {
   "cell_type": "code",
   "execution_count": null,
   "id": "modular-redhead",
   "metadata": {},
   "outputs": [],
   "source": [
    "report = {\n",
    "    \"mass\": [],\n",
    "    \"brutto\": [],\n",
    "    \"brutto_formal\": [],\n",
    "    \"cosine\": [],\n",
    "    \"relative\": [],\n",
    "    \"delta_max\": [],\n",
    "    \"delta_avg\": []\n",
    "}\n",
    "variables = [\n",
    "    \"Pd1\",\n",
    "    \"Pd2\",\n",
    "    \"Cu1\",\n",
    "    \"Cu2\",\n",
    "    \"Na\",\n",
    "    \"K\",\n",
    "    \"O\",\n",
    "    \"CF3COO\",\n",
    "    \"TBA\",\n",
    "    \"OH\",\n",
    "    \"Cl\",\n",
    "    \"Br\",\n",
    "    \"CH3CN\",\n",
    "    \"CH3OH\",\n",
    "    \"H2O\",\n",
    "    \"N2\",\n",
    "    \"O2_1\",\n",
    "    \"O2_2\"\n",
    "]\n",
    "for variable in variables:\n",
    "    report[variable] = []\n",
    "for mass, data in ranked.items():\n",
    "\n",
    "    for match in data:\n",
    "        composition = match[\"composition\"]\n",
    "        report[\"mass\"].append(round(mass))\n",
    "        report[\"brutto\"].append(match[\"formula\"])\n",
    "        report[\"brutto_formal\"].append(formal_formula(composition))\n",
    "        report[\"cosine\"].append(match[\"metrics\"][\"cosine\"])\n",
    "        report[\"relative\"].append(match[\"relative\"])\n",
    "        report[\"delta_max\"].append(abs(match[\"delta_max\"]))\n",
    "        report[\"delta_avg\"].append(abs(match[\"delta_avg\"]))\n",
    "        for variable in variables:\n",
    "            if variable in composition:\n",
    "                report[variable].append(composition[variable])\n",
    "            else:\n",
    "                report[variable].append(0)\n",
    "    df = pd.DataFrame(report)\n",
    "    df.to_csv(f\"{path}/{file_name}.csv\")"
   ]
  },
  {
   "cell_type": "code",
   "execution_count": null,
   "id": "aggregate-protest",
   "metadata": {},
   "outputs": [],
   "source": [
    "data_entries = defaultdict(list)\n",
    "colors = []\n",
    "count_entries = min_cosine.shape[0]\n",
    "saved_mol = {}\n",
    "\n",
    "plt.figure(figsize=(20,10))\n",
    "max_it = max(it)\n",
    "plt.plot(mz, (it/max_it)*100, color=\"black\")\n",
    "count: int = 0\n",
    "c1: str = \"blue\"\n",
    "c2: str = \"red\"\n",
    "txt = \"\"\n",
    "heights, locations = [], []\n",
    "for row in tqdm(min_cosine.iterrows()):\n",
    "    colour = color_fader(c1, c2, mix=count / (count_entries + 1))\n",
    "    colors.append(colour)\n",
    "    brut = row[1]['brutto']\n",
    "    if brut in saved_mol:\n",
    "        ml = saved_mol[brut]\n",
    "    else:\n",
    "        ml = Molecule(formula=row[1]['brutto'])\n",
    "        ml.calculate()\n",
    "        saved_mol[brut] = ml\n",
    "    \n",
    "    it_n = row[1]['relative']/max(ml.it)\n",
    "    plt.plot(\n",
    "        ml.mz, it_n*ml.it, color=colour,\n",
    "    )\n",
    "    data_entries[\"#\"].append(count+1)\n",
    "    data_entries[\"Mass\"].append(row[1]['mass'])\n",
    "    data_entries[\"Formula\"].append(row[1]['brutto_formal'])\n",
    "    data_entries[\"Cosine\"].append(f\"{row[1]['cosine']:.3f}\")\n",
    "    data_entries[\"Relative int., %\"].append(f\"{row[1]['relative']:.3f}\")\n",
    "\n",
    "    max_ind = np.argmax(ml.it)\n",
    "    heights.append(row[1]['relative'])\n",
    "    locations.append(row[1]['mass'])\n",
    "    count += 1\n",
    "for ind, _ in enumerate(heights):\n",
    "    x1 = [0, 0]\n",
    "    y1 = [0,0]\n",
    "    if abs(locations[ind-1] - locations[ind]) <= 10:\n",
    "        x1[0] += locations[ind]\n",
    "        y1[0] += (heights[ind])\n",
    "        heights[ind] = (heights[ind]+2)\n",
    "        locations[ind] = (locations[ind-1] + 15)\n",
    "        x1[1] += locations[ind]\n",
    "        y1[1] += (heights[ind] + 0.7)\n",
    "    plt.plot(x1, y1, '-', color=colors[ind])\n",
    "    plt.text(\n",
    "        locations[ind],\n",
    "        heights[ind] + 1,\n",
    "        f\"{ind+1}\",\n",
    "        color=colors[ind],\n",
    "        horizontalalignment=\"center\",\n",
    "        verticalalignment=\"center\",\n",
    "        fontsize=10,\n",
    "    )\n",
    "    count += 1\n",
    "\n",
    "plt.xticks(list(range(0, 1600, 200))) \n",
    "plt.yticks(list(range(0, 120, 10))) \n",
    "plt.title(f\"Recognised isotope patterns\", fontsize=15)\n",
    "plt.xlabel(\"M/Z\", fontsize=10)\n",
    "plt.ylabel(\"Intensity, %\", fontsize=10)\n",
    "plt.autoscale(enable=True, axis='x', tight=True)\n",
    "plt.autoscale(enable=True, axis='y', tight=True)\n",
    "plt.savefig(f\"{path}/{file_name}_total.png\", dpi=300)\n",
    "plt.clf()\n",
    "plt.cla()\n",
    "plt.close()\n",
    "\n",
    "df_d = pd.DataFrame(data_entries)\n",
    "fig, ax = plt.subplots()\n",
    "fig.patch.set_visible(False)\n",
    "fig.tight_layout()\n",
    "ax.axis(\"off\")\n",
    "table=ax.table(\n",
    "    cellText=df_d.values, \n",
    "    colLabels=df_d.columns,\n",
    "    loc='center',\n",
    "    cellLoc='center'\n",
    ")\n",
    "table.scale(1, 2)\n",
    "table_props = table.properties()\n",
    "table_cells = table_props['celld']\n",
    "clr = 0\n",
    "for i, cell in enumerate(table_cells.values()):\n",
    "    if i < len(table_cells)-5:\n",
    "        cell.get_text().set_fontsize(15)\n",
    "        try:\n",
    "            cell.get_text().set_color(colors[clr])\n",
    "        except:\n",
    "            pass\n",
    "        if i != 0 and i % 5 == 0:\n",
    "            clr +=1\n",
    "table.auto_set_column_width(col=list(range(len(df_d.columns))))\n",
    "if not os.path.isdir(path):\n",
    "    os.makedirs(path)\n",
    "fig.savefig(\n",
    "    f\"{path}/{file_name}_total_table.png\", \n",
    "    dpi=300,\n",
    "    bbox_inches = \"tight\"\n",
    ")"
   ]
  }
 ],
 "metadata": {
  "kernelspec": {
   "display_name": "Python 3",
   "language": "python",
   "name": "python3"
  },
  "language_info": {
   "codemirror_mode": {
    "name": "ipython",
    "version": 3
   },
   "file_extension": ".py",
   "mimetype": "text/x-python",
   "name": "python",
   "nbconvert_exporter": "python",
   "pygments_lexer": "ipython3",
   "version": "3.8.10"
  }
 },
 "nbformat": 4,
 "nbformat_minor": 5
}
