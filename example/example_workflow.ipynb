{
 "cells": [
  {
   "cell_type": "markdown",
   "id": "chief-reading",
   "metadata": {},
   "source": [
    "# Example for PdCl2 and CuCl data"
   ]
  },
  {
   "cell_type": "markdown",
   "id": "latest-gazette",
   "metadata": {},
   "source": [
    "Example of routine used to find clusters inside test data and perform their identification by using classes and examples from MSARIS package\n",
    "\n",
    "Provided example includes linear optimization search together with founding clusters and plotting plots with found spectrum\n",
    "\n",
    "Currently for prototype runned routine is conducted mostly in user defined functions "
   ]
  },
  {
   "cell_type": "markdown",
   "id": "exceptional-moore",
   "metadata": {},
   "source": [
    "## Installing dependencies\n",
    "\n",
    "Install dependencies to run package"
   ]
  },
  {
   "cell_type": "code",
   "execution_count": null,
   "id": "experimental-secondary",
   "metadata": {
    "scrolled": true
   },
   "outputs": [],
   "source": [
    "%pip install -r ../requirements.txt\n",
    "%pip install -e .."
   ]
  },
  {
   "cell_type": "markdown",
   "id": "miniature-buffer",
   "metadata": {},
   "source": [
    "Run imports to run example scripts"
   ]
  },
  {
   "cell_type": "code",
   "execution_count": null,
   "id": "monetary-contributor",
   "metadata": {},
   "outputs": [],
   "source": [
    "from collections import defaultdict\n",
    "import glob\n",
    "import os\n",
    "\n",
    "import matplotlib.pyplot as plt\n",
    "import numpy as np\n",
    "import pandas as pd\n",
    "from tqdm.notebook import tqdm\n",
    "\n",
    "from msaris.clusterisation.clusterisation import ClusterSearch, MaxClustering\n",
    "from msaris.molecule.molecule import Molecule, compare_and_visualize\n",
    "from msaris.search.optimization_search import SearchClusters\n",
    "from msaris.reader.reader import load_data\n",
    "from msaris.reader.preprocessing import filter_intensities, reduce_data_resolution\n",
    "from msaris.utils.intensities_util import norm\n",
    "from msaris.utils.molecule_utils import plot_results"
   ]
  },
  {
   "cell_type": "markdown",
   "id": "romance-density",
   "metadata": {},
   "source": [
    "## Running data loading\n",
    "\n",
    "Read `.mzML` file and pre-proccess data with reducing data dimensionality"
   ]
  },
  {
   "cell_type": "code",
   "execution_count": null,
   "id": "spanish-therapist",
   "metadata": {},
   "outputs": [],
   "source": [
    "file_name = \"file_name\"\n",
    "DATA_SOURCE = f\"./{file_name}.mzML\"\n",
    "path = f\"./{file_name}\""
   ]
  },
  {
   "cell_type": "code",
   "execution_count": null,
   "id": "declared-simple",
   "metadata": {},
   "outputs": [],
   "source": [
    "mz, it = load_data(\n",
    "    DATA_SOURCE, range_spectrum=(0, 1000), min_intensity=None, mz_binning_width=25.0,\n",
    ")\n",
    "mz_processed, it_processed = reduce_data_resolution(mz, it, int(mz.shape[0]/10), int(it.shape[0]/10))"
   ]
  },
  {
   "cell_type": "markdown",
   "id": "sought-butter",
   "metadata": {},
   "source": [
    "### Estimation of individual spectrum\n",
    "\n",
    "Allowing to compare some graphs with predefined spectra to estiamte their validaty"
   ]
  },
  {
   "cell_type": "code",
   "execution_count": null,
   "id": "serious-puzzle",
   "metadata": {
    "scrolled": true
   },
   "outputs": [],
   "source": [
    "formula = \"Cu3Pd1Cl4(CH3CN)\"\n",
    "save = True\n",
    "compare_and_visualize(\n",
    "    mz,\n",
    "    it,\n",
    "    formula=formula,\n",
    "    save=False,\n",
    "    path=path,\n",
    "    window=0.1\n",
    ")"
   ]
  },
  {
   "cell_type": "markdown",
   "id": "meaning-tablet",
   "metadata": {},
   "source": [
    "## Clustering spectrum to find existing peaks\n",
    "\n",
    "Find MaxClustering to find clusters in data to find weighted masses with peaks"
   ]
  },
  {
   "cell_type": "code",
   "execution_count": null,
   "id": "seventh-pierce",
   "metadata": {
    "scrolled": true
   },
   "outputs": [],
   "source": [
    "clust = MaxClustering(\n",
    "    window=7,\n",
    "    threshold = max(it)*0.01\n",
    ")\n",
    "masses_ = clust.find(mz, it, cluster_mod=\"max\")"
   ]
  },
  {
   "cell_type": "markdown",
   "id": "convertible-wright",
   "metadata": {},
   "source": [
    "## Running script to find brutto formula\n",
    "\n",
    "Running parameters in order with different coefficients calculated\n",
    "started from Metal to adding various ligands"
   ]
  },
  {
   "cell_type": "code",
   "execution_count": null,
   "id": "sharing-proportion",
   "metadata": {},
   "outputs": [],
   "source": [
    "iteration_steps = [\n",
    "    dict(no_Cu=True,),\n",
    "    dict(no_Cu=True, no_CH3CN=False, no_Pd=False,),\n",
    "    dict(no_Cu=True, no_CH3CN=False, no_Pd=False, no_N2=False,),\n",
    "    dict(no_Cu=True, no_CH3CN=False, no_H2O=False, no_Pd=False),\n",
    "    dict(no_Pd=True,),\n",
    "    dict(no_Cu=False, no_CH3CN=False, no_Pd=True,),\n",
    "    dict(no_Cu=False, no_CH3CN=False, no_Pd=True, no_N2=False,),\n",
    "    dict(no_Cu=False, no_CH3CN=False, no_H2O=False, no_Pd=True),\n",
    "    dict(no_CH3CN=False,),\n",
    "    dict(no_Na=False,),\n",
    "    dict(no_H2O=False,),\n",
    "    dict(no_O2=False,),\n",
    "    dict(no_O=False,),\n",
    "    dict(no_N2=False,)\n",
    "]"
   ]
  },
  {
   "cell_type": "markdown",
   "id": "stunning-representation",
   "metadata": {},
   "source": [
    "Running custom script run with found weighted masses and determing isotope pattern formulas"
   ]
  },
  {
   "cell_type": "markdown",
   "id": "rural-scholar",
   "metadata": {},
   "source": [
    "Running class with function for search\n",
    "Here we used threshold for cosine value equal to 0.7\n",
    "\n",
    "Data is saved in `ranked` dictionary with all found metrics"
   ]
  },
  {
   "cell_type": "code",
   "execution_count": null,
   "id": "massive-breathing",
   "metadata": {
    "scrolled": true
   },
   "outputs": [],
   "source": [
    "ranked = defaultdict(list)\n",
    "srch = SearchClusters(\n",
    "    mz=mz,\n",
    "    it=it,\n",
    "    charge = -1,\n",
    "    threshold = 0.5,\n",
    "    verbose=True,\n",
    "    adjusted=False,\n",
    "    njobs=5\n",
    ")\n",
    "for target_mass in tqdm(sorted(masses_)):\n",
    "    found = []\n",
    "    for params in iteration_steps:\n",
    "        found.extend(srch.recognise_masses(\n",
    "                    target_mass,\n",
    "                    params,\n",
    "                    epsilon_range =(0, 5, 0.1,), \n",
    "                ))\n",
    "    ranked[target_mass] = sorted(found, key=lambda x: x[\"delta_max\"])   "
   ]
  },
  {
   "cell_type": "code",
   "execution_count": null,
   "id": "modular-redhead",
   "metadata": {},
   "outputs": [],
   "source": [
    "report = {\n",
    "    \"mass\": [],\n",
    "    \"brutto\": [],\n",
    "    \"brutto_formal\": [],\n",
    "    \"cosine\": [],\n",
    "    \"relative\": [],\n",
    "    \"delta_max\": [],\n",
    "    \"delta_avg\": []\n",
    "}\n",
    "variables = [\n",
    "    \"Pd1\",\n",
    "    \"Pd2\",\n",
    "    \"Cu1\",\n",
    "    \"Cu2\",\n",
    "    \"Na\",\n",
    "    \"K\",\n",
    "    \"O\",\n",
    "    \"CF3COO\",\n",
    "    \"TBA\",\n",
    "    \"OH\",\n",
    "    \"Cl\",\n",
    "    \"Br\",\n",
    "    \"CH3CN\",\n",
    "    \"CH3OH\",\n",
    "    \"H2O\",\n",
    "    \"N2\",\n",
    "    \"O2_1\",\n",
    "    \"O2_2\"\n",
    "]\n",
    "for variable in variables:\n",
    "    report[variable] = []\n",
    "for mass, data in ranked.items():\n",
    "\n",
    "    for match in data:\n",
    "        composition = match[\"composition\"]\n",
    "        report[\"mass\"].append(round(mass))\n",
    "        report[\"brutto\"].append(match[\"formula\"])\n",
    "        report[\"brutto_formal\"].append(formal_formula(composition))\n",
    "        report[\"cosine\"].append(match[\"cosine\"])\n",
    "        report[\"relative\"].append(match[\"relative\"])\n",
    "        report[\"delta_max\"].append(abs(match[\"delta_max\"]))\n",
    "        report[\"delta_avg\"].append(abs(match[\"delta_avg\"]))\n",
    "        for variable in variables:\n",
    "            if variable in composition:\n",
    "                report[variable].append(composition[variable])\n",
    "            else:\n",
    "                report[variable].append(0)\n",
    "if not os.path.exists(path):\n",
    "    os.makedirs(path)\n",
    "df = pd.DataFrame(report)\n",
    "df.to_csv(f\"{path}/{file_name}.csv\")"
   ]
  },
  {
   "cell_type": "markdown",
   "id": "adjacent-refrigerator",
   "metadata": {},
   "source": [
    "## Representation of found results\n",
    "\n",
    "Drawing general plot of the found spectra data and adding individual drawn spectrum"
   ]
  },
  {
   "cell_type": "markdown",
   "id": "plain-margin",
   "metadata": {},
   "source": [
    "### Plotting all found peaks\n",
    "\n",
    "Results from `ranked` are presented in total.png plot where all found peaks could be observed"
   ]
  },
  {
   "cell_type": "markdown",
   "id": "demonstrated-processor",
   "metadata": {},
   "source": [
    "### Generating csv report with total found data\n",
    "\n",
    "Performing construction of the `.csv` file with defined and found peaks"
   ]
  },
  {
   "cell_type": "code",
   "execution_count": null,
   "id": "literary-pension",
   "metadata": {},
   "outputs": [],
   "source": [
    "cols=[col for col in df.columns if col not in [\"brutto_formal\",\"brutto\"]]\n",
    "cos = df.groupby(pd.cut(df[\"mass\"], np.arange(0, 1000, 2))).min([\"cosine\"]).cosine.values\n",
    "min_cosine = df[df.cosine.isin(cos)]\n",
    "min_cosine.to_csv(f'{path}/{file_name}_min_cosine.csv')\n",
    "min_cosine"
   ]
  },
  {
   "cell_type": "code",
   "execution_count": null,
   "id": "liquid-observer",
   "metadata": {},
   "outputs": [],
   "source": [
    "plot_results(mz, it, min_cosine)"
   ]
  }
 ],
 "metadata": {
  "kernelspec": {
   "display_name": "Python 3",
   "language": "python",
   "name": "python3"
  },
  "language_info": {
   "codemirror_mode": {
    "name": "ipython",
    "version": 3
   },
   "file_extension": ".py",
   "mimetype": "text/x-python",
   "name": "python",
   "nbconvert_exporter": "python",
   "pygments_lexer": "ipython3",
   "version": "3.8.10"
  }
 },
 "nbformat": 4,
 "nbformat_minor": 5
}
